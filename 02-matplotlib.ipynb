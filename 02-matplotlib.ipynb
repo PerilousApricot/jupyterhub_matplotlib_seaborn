{
 "cells": [
  {
   "cell_type": "markdown",
   "metadata": {},
   "source": [
    "Matplotlib in 15 mins\n",
    "=================\n",
    "\n",
    "Matplotlib is a very popular, fully featured plotting library for Python.\n",
    "\n",
    "### Import Matplotlib\n",
    "Since `matplotlib` is very long to type, the convention is to abbreviate it to `mpl`. I additionally change the default figure size to be more visible for this presentation (the units for `figsize` is inches)."
   ]
  },
  {
   "cell_type": "code",
   "execution_count": null,
   "metadata": {},
   "outputs": [],
   "source": [
    "import matplotlib as mpl\n",
    "import matplotlib.pyplot as plt\n",
    "import numpy as np\n",
    "mpl.rcParams['figure.figsize'] = [12, 6.0]"
   ]
  },
  {
   "cell_type": "markdown",
   "metadata": {},
   "source": [
    "# Sample data\n",
    "\n",
    "We need something to test plotting with, so let's produce our X and Y values using `numpy`."
   ]
  },
  {
   "cell_type": "code",
   "execution_count": null,
   "metadata": {},
   "outputs": [],
   "source": [
    "x = np.linspace(0, 10, 100)\n",
    "y1 = np.sin(x)\n",
    "y2 = np.sin(x+1)\n",
    "y3 = np.sin(x+2)"
   ]
  },
  {
   "cell_type": "markdown",
   "metadata": {},
   "source": [
    "# Our first plot\n",
    "\n",
    "With the X and Y values we made, let's explore different options for plt.plot(). Since this function does so much, there are many many many arguments and options. The full documentation can be found [here](https://matplotlib.org/api/_as_gen/matplotlib.pyplot.plot.html).\n",
    "\n",
    "## Formatting options\n",
    "There are a few important arguments that can be added to each plot call:\n",
    "* color\n",
    "* linestyle\n",
    "* marker\n",
    "* label"
   ]
  },
  {
   "cell_type": "code",
   "execution_count": null,
   "metadata": {},
   "outputs": [],
   "source": [
    "fig = plt.figure()\n",
    "plt.plot(x, y1)"
   ]
  },
  {
   "cell_type": "markdown",
   "metadata": {},
   "source": [
    "# Saving figures\n",
    "The `savefig()` function will save the figure to a file "
   ]
  },
  {
   "cell_type": "code",
   "execution_count": null,
   "metadata": {},
   "outputs": [],
   "source": [
    "fig.savefig('my_figure.png')"
   ]
  },
  {
   "cell_type": "markdown",
   "metadata": {},
   "source": [
    "you can verify it worked by telling Jupyter to display the image inline"
   ]
  },
  {
   "cell_type": "code",
   "execution_count": null,
   "metadata": {},
   "outputs": [],
   "source": [
    "from IPython.display import Image\n",
    "Image('my_figure.png')"
   ]
  },
  {
   "cell_type": "markdown",
   "metadata": {},
   "source": [
    "# Axes\n",
    "Matplotlib gives a couple different options to modify the axes of a plot:\n",
    "\n",
    "* plt.xlim(min, max)\n",
    "* plt.ylim(min, max)\n",
    "* plt.axis([xmin, xmax, ymin, ymax])\n",
    "* plt.axis(<typestring>)\n",
    "\n",
    "You can find more information by running `help(plt.axis)` in a new cell"
   ]
  },
  {
   "cell_type": "code",
   "execution_count": null,
   "metadata": {},
   "outputs": [],
   "source": [
    "fig = plt.figure()\n",
    "plt.plot(x, y1);"
   ]
  },
  {
   "cell_type": "markdown",
   "metadata": {},
   "source": [
    "# Labels and legends\n",
    "The final bit of basic functionality we should know about is legends, accessible via `plt.legend()`. Note that for this to be useful, each `plot()` needs to have its `label` set."
   ]
  },
  {
   "cell_type": "code",
   "execution_count": null,
   "metadata": {},
   "outputs": [],
   "source": [
    "fig = plt.figure()\n",
    "plt.plot(x, y1)\n",
    "plt.axis(\"equal\");"
   ]
  },
  {
   "cell_type": "markdown",
   "metadata": {},
   "source": [
    "# Error Bars\n",
    "A common need when visualizing data is to show error bars. This is accomplished with `plt.errorbars()`, which is a superset of the `plt.plot()` options. You simply need to add additional `yerr` and/or `xerr` options"
   ]
  },
  {
   "cell_type": "code",
   "execution_count": null,
   "metadata": {},
   "outputs": [],
   "source": [
    "fig = plt.figure()\n",
    "# Make a random distribution of errors with 100 entries (one for every Y value we have)\n",
    "yerr = np.random.randn(100) * 0.1\n",
    "plt.plot(x, y1, label=\"sin1\")\n",
    "plt.plot(x, y2, label=\"sin2\")\n",
    "plt.axis(\"equal\")\n",
    "plt.legend();"
   ]
  },
  {
   "cell_type": "markdown",
   "metadata": {},
   "source": [
    "# Histograms\n",
    "\n",
    "Another important Matplotlib feature is the ability to make histograms. Let's make some data to use"
   ]
  },
  {
   "cell_type": "code",
   "execution_count": null,
   "metadata": {},
   "outputs": [],
   "source": [
    "x1 = np.random.normal(0, 0.8, 1000)\n",
    "x2 = np.random.normal(-2, 1, 1000)\n",
    "x3 = np.random.normal(3, 2, 1000)"
   ]
  },
  {
   "cell_type": "markdown",
   "metadata": {},
   "source": [
    "## Plotting a histogram\n",
    "The `plt.hist()` call is the histogram equivalent of `plt.plot()`"
   ]
  },
  {
   "cell_type": "code",
   "execution_count": null,
   "metadata": {},
   "outputs": [],
   "source": [
    "plt.hist(x1)\n",
    "plt.legend();"
   ]
  },
  {
   "cell_type": "markdown",
   "metadata": {},
   "source": [
    "# Stacking histograms\n",
    "\n",
    "To be able to stack histograms, matplotlib needs to know abotu all the data at once instead of receiving each dataset individually like it would normally from a sequence of calls. To do this, it accepts lists for the value of each argument"
   ]
  },
  {
   "cell_type": "code",
   "execution_count": null,
   "metadata": {},
   "outputs": [],
   "source": [
    "plt.hist([x1, x2, x3], stacked=True);"
   ]
  }
 ],
 "metadata": {
  "kernelspec": {
   "display_name": "mpl_sbs",
   "language": "python",
   "name": "mpl_sbs"
  },
  "language_info": {
   "codemirror_mode": {
    "name": "ipython",
    "version": 2
   },
   "file_extension": ".py",
   "mimetype": "text/x-python",
   "name": "python",
   "nbconvert_exporter": "python",
   "pygments_lexer": "ipython2",
   "version": "2.7.5"
  }
 },
 "nbformat": 4,
 "nbformat_minor": 2
}
