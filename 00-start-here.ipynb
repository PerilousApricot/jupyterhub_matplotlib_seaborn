{
 "cells": [
  {
   "cell_type": "markdown",
   "metadata": {},
   "source": [
    "A brief intro to Matplotlib and Seaborn\n",
    "===============================\n",
    "\n",
    "This tutorial will guide you through a very brief introduction to two popular python plotting tools -- [Matplotlib](https://matplotlib.org/) and [Seaborn](https://seaborn.pydata.org/)\n",
    "\n",
    "Setting up our software\n",
    "===================\n",
    "\n",
    "Jupyter has the concept of _kernels_, which are independent execution environments. They don't even have to be Python, kernels for other languages exist as well.\n",
    "\n",
    "By loading a separate kernel for each project, we avoid the complication of different components/projects having weird interactions, ultimately helping reproducibility.\n",
    "\n",
    "We first produce a new virtualenv with the libraries we require, then we teach Jupyter about this new environment with the ipython executable. To execute this code, select it then press `Shift+Enter`"
   ]
  },
  {
   "cell_type": "code",
   "execution_count": null,
   "metadata": {},
   "outputs": [],
   "source": [
    "%%bash\n",
    "python2 -m virtualenv mpl_sbs\n",
    "source mpl_sbs/bin/activate\n",
    "pip install ipykernel matplotlib seaborn\n",
    "ipython kernel install --user --name=mpl_sbs"
   ]
  },
  {
   "cell_type": "markdown",
   "metadata": {},
   "source": [
    "Results\n",
    "======\n",
    "\n",
    "If successful, you should see something similar to the following (feel free to ignore the Python 2.7 deprecation warning):\n",
    "```\n",
    "New python executable in /home/meloam/hats-template/hats-template/bin/python2\n",
    "Also creating executable in /home/meloam/hats-template/hats-template/bin/python\n",
    "Installing setuptools, pip, wheel...done.\n",
    "/home/meloam/hats-template/hats-template/bin/pip\n",
    "Collecting numpy==1.14.3\n",
    "  Using cached https://files.pythonhosted.org/packages/c0/e7/08f059a00367fd613e4f2875a16c70b6237268a1d6d166c6d36acada8301/numpy-1.14.3-cp27-cp27mu-manylinux1_x86_64.whl\n",
    "<snip>\n",
    "Installed kernelspec mpl_sbs in /home/meloam/.local/share/jupyter/kernels/mpl_sbs\n",
    "```\n",
    "\n",
    "The new kernel you just made will then show up in the various Jupyter dropdowns, allowing you to use it for this tutorial"
   ]
  }
 ],
 "metadata": {
  "kernelspec": {
   "display_name": "Python 2",
   "language": "python",
   "name": "python2"
  },
  "language_info": {
   "codemirror_mode": {
    "name": "ipython",
    "version": 2
   },
   "file_extension": ".py",
   "mimetype": "text/x-python",
   "name": "python",
   "nbconvert_exporter": "python",
   "pygments_lexer": "ipython2",
   "version": "2.7.5"
  }
 },
 "nbformat": 4,
 "nbformat_minor": 2
}
